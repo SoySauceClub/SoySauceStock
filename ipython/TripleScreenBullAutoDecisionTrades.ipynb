{
 "cells": [
  {
   "cell_type": "code",
   "execution_count": 6,
   "metadata": {
    "collapsed": true
   },
   "outputs": [],
   "source": [
    "import pandas as pd\n",
    "import sys\n",
    "import os\n",
    "sys.path.append('..')\n",
    "from soysaucestock.stock_price_scraper import StockChartScraper\n",
    "from soysaucestock.stock_chart_backtester import StockChartTester, TradeResult\n",
    "from soysaucestock.technical_analyzer import TechnicalAnalyzer"
   ]
  },
  {
   "cell_type": "code",
   "execution_count": 7,
   "metadata": {
    "collapsed": false
   },
   "outputs": [],
   "source": [
    "target_file = \"C:\\\\temp\\\\TradeConfig\\\\TripleScreenBull.csv\"\n",
    "#target_file = \"C:\\\\temp\\\\WorkingInProgress.csv\"\n",
    "df = pd.read_csv(target_file, parse_dates=True)\n",
    "df = df.sort_index(ascending=False)"
   ]
  },
  {
   "cell_type": "code",
   "execution_count": 8,
   "metadata": {
    "collapsed": false
   },
   "outputs": [],
   "source": [
    "trade_df = pd.DataFrame()"
   ]
  },
  {
   "cell_type": "code",
   "execution_count": 9,
   "metadata": {
    "collapsed": false
   },
   "outputs": [],
   "source": [
    "ticker_list = df.Ticker.tolist()"
   ]
  },
  {
   "cell_type": "code",
   "execution_count": 10,
   "metadata": {
    "collapsed": true
   },
   "outputs": [],
   "source": [
    "#get all the stock price\n",
    "StockChartScraper.save_stocks(ticker_list)"
   ]
  },
  {
   "cell_type": "code",
   "execution_count": null,
   "metadata": {
    "collapsed": false
   },
   "outputs": [
    {
     "name": "stdout",
     "output_type": "stream",
     "text": [
      "EMA.TO 2016-02-29\n",
      "G.TO 2016-02-26\n",
      "HVU.TO 2016-02-25\n",
      "TCL.A.TO 2016-02-11\n",
      "CAR.UN.TO 2016-02-10\n",
      "BIN.TO 2016-02-09\n",
      "HSD.TO 2016-02-04\n",
      "HOD.TO 2016-02-03\n",
      "DLR.TO 2016-01-29\n",
      "HXD.TO 2016-01-28\n",
      "CAS.TO 2016-01-25\n",
      "EDV.TO 2016-01-19\n",
      "STN.TO 2015-12-14\n",
      "GIB.A.TO 2015-12-11\n",
      "CTC.A.TO 2015-12-09\n",
      "ITP.TO 2015-12-09\n",
      "POW.TO 2015-12-07\n",
      "ZZZ.TO 2015-12-04\n",
      "HPR.TO 2015-11-23\n",
      "DRT.TO 2015-11-18\n",
      "MST.UN.TO 2015-11-16\n",
      "RCI.B.TO 2015-11-13\n",
      "SU.TO 2015-11-13\n",
      "BMO.TO 2015-11-12\n",
      "FCR.TO 2015-11-12\n",
      "JE.TO 2015-11-11\n",
      "ABX.TO 2015-11-06\n",
      "AX.UN.TO 2015-11-06\n",
      "BCE.TO 2015-11-05\n",
      "FNV.TO 2015-11-05\n",
      "CG.TO 2015-11-04\n",
      "SAP.TO 2015-11-02\n",
      "HGU.TO 2015-10-30\n",
      "SNC.TO 2015-10-30\n",
      "NPI.TO 2015-10-28\n",
      "PVG.TO 2015-10-28\n",
      "WSP.TO 2015-10-28\n",
      "MEG.TO 2015-10-26\n",
      "FRU.TO 2015-10-21\n",
      "HCG.TO 2015-10-16\n",
      "HED.TO 2015-09-08\n",
      "ZFM.TO 2015-09-01\n",
      "IFC.TO 2015-08-21\n",
      "L.TO 2015-08-21\n",
      "TIH.TO 2015-08-21\n",
      "ATD.B.TO 2015-08-20\n",
      "BCB.TO 2015-08-20\n",
      "CLS.TO 2015-08-20\n",
      "TRI.TO 2015-08-20"
     ]
    }
   ],
   "source": [
    "for i in range(0, len(ticker_list)):\n",
    "    ticker = df.ix[i].Ticker.replace('/','.')\n",
    "    start_date = df.ix[i].Date\n",
    "    \n",
    "    if not trade_df.empty and any(trade_df.EnterTicker == ticker) and trade_df.loc[trade_df.EnterTicker == ticker].ExitDate.max() > start_date:\n",
    "        continue;\n",
    "        \n",
    "    # start the trading\n",
    "    trade = StockChartTester.process_macd_calc_long(ticker, start_date)\n",
    "    \n",
    "    # save trade\n",
    "    trade_df = trade_df.append(trade.todf(), ignore_index=True)\n",
    "    \n",
    "    print(ticker + ' ' + start_date)"
   ]
  },
  {
   "cell_type": "code",
   "execution_count": null,
   "metadata": {
    "collapsed": false
   },
   "outputs": [],
   "source": [
    "# save all the trades info for further documentation\n",
    "# header = EnterDate,EnterDirection,EnterPrice,EnterTicker,ExitDate,ExitPrice,InitialStop,IsMissed,TargetPrice\n",
    "result_file = \"C:\\\\temp\\\\TradeConfig\\\\bull_trade_result.csv\"\n",
    "with open(result_file, 'a+') as f:\n",
    "    trade_df.to_csv(f, header=False, index=False)"
   ]
  },
  {
   "cell_type": "code",
   "execution_count": null,
   "metadata": {
    "collapsed": true
   },
   "outputs": [],
   "source": [
    "d = StockChartTester()\n",
    "for index in range(0, trade_df.EnterDate.size):\n",
    "    trade = trade_df.iloc[index]\n",
    "    d.save_chart(trade, dest='TripleScreenBull')"
   ]
  },
  {
   "cell_type": "code",
   "execution_count": null,
   "metadata": {
    "collapsed": false
   },
   "outputs": [],
   "source": [
    "df.tail(10)"
   ]
  },
  {
   "cell_type": "code",
   "execution_count": null,
   "metadata": {
    "collapsed": true
   },
   "outputs": [],
   "source": []
  },
  {
   "cell_type": "code",
   "execution_count": null,
   "metadata": {
    "collapsed": true
   },
   "outputs": [],
   "source": []
  },
  {
   "cell_type": "code",
   "execution_count": null,
   "metadata": {
    "collapsed": true
   },
   "outputs": [],
   "source": []
  },
  {
   "cell_type": "code",
   "execution_count": null,
   "metadata": {
    "collapsed": true
   },
   "outputs": [],
   "source": []
  },
  {
   "cell_type": "code",
   "execution_count": null,
   "metadata": {
    "collapsed": false
   },
   "outputs": [],
   "source": [
    "i = 2\n",
    "ticker = df.ix[i].Ticker\n",
    "start_date = df.ix[i].Date\n",
    "trade = StockChartTester.process_macd_calc_long(ticker, start_date)"
   ]
  },
  {
   "cell_type": "code",
   "execution_count": null,
   "metadata": {
    "collapsed": false
   },
   "outputs": [],
   "source": [
    "trade.tostr()"
   ]
  },
  {
   "cell_type": "code",
   "execution_count": null,
   "metadata": {
    "collapsed": false
   },
   "outputs": [],
   "source": [
    "a = trade.todf()"
   ]
  },
  {
   "cell_type": "code",
   "execution_count": null,
   "metadata": {
    "collapsed": true
   },
   "outputs": [],
   "source": [
    "price_dest = 'C:\\\\temp' \n",
    "price_df = pd.read_csv(os.path.join(price_dest, str.format('{0}.csv', ticker.replace('/','.'))) , index_col=0)"
   ]
  },
  {
   "cell_type": "code",
   "execution_count": null,
   "metadata": {
    "collapsed": false
   },
   "outputs": [],
   "source": [
    "price_df[:start_date].tail(5).Low.min()"
   ]
  },
  {
   "cell_type": "code",
   "execution_count": null,
   "metadata": {
    "collapsed": false
   },
   "outputs": [],
   "source": [
    "# want to show any trade results\n",
    "#d = StockChartTester()\n",
    "d.show_stock(trade.enter_ticker, trade.exit_date)"
   ]
  },
  {
   "cell_type": "code",
   "execution_count": null,
   "metadata": {
    "collapsed": false
   },
   "outputs": [],
   "source": [
    "d = StockChartTester()\n",
    "d.save_chart(a.ix[0], dest='TripleScreenBull')"
   ]
  },
  {
   "cell_type": "code",
   "execution_count": null,
   "metadata": {
    "collapsed": true
   },
   "outputs": [],
   "source": []
  }
 ],
 "metadata": {
  "kernelspec": {
   "display_name": "Python 3",
   "language": "python",
   "name": "python3"
  },
  "language_info": {
   "codemirror_mode": {
    "name": "ipython",
    "version": 3
   },
   "file_extension": ".py",
   "mimetype": "text/x-python",
   "name": "python",
   "nbconvert_exporter": "python",
   "pygments_lexer": "ipython3",
   "version": "3.5.1"
  }
 },
 "nbformat": 4,
 "nbformat_minor": 0
}
