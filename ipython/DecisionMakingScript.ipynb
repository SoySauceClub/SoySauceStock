{
 "cells": [
  {
   "cell_type": "code",
   "execution_count": null,
   "metadata": {
    "collapsed": true
   },
   "outputs": [],
   "source": [
    "import pandas as pd\n",
    "import json\n",
    "import os\n",
    "from selenium import webdriver\n",
    "from selenium.webdriver.support.ui import Select\n",
    "from selenium.webdriver.common.keys import Keys\n",
    "from datetime import date\n",
    "from dateutil import parser\n",
    "from dateutil.relativedelta import relativedelta"
   ]
  },
  {
   "cell_type": "code",
   "execution_count": null,
   "metadata": {
    "collapsed": false
   },
   "outputs": [],
   "source": [
    "class TradeResult(object):\n",
    "    def __init__(self, enter_date, enter_ticker, enter_price, initial_stop, target_price, enter_direction, exit_date, exit_price, is_missed):\n",
    "        self.enter_date = enter_date\n",
    "        self.enter_ticker = enter_ticker\n",
    "        self.enter_price = enter_price\n",
    "        self.initial_stop = initial_stop\n",
    "        self.target_price = target_price\n",
    "        self.enter_direction = enter_direction\n",
    "        self.exit_date = exit_date\n",
    "        self.exit_price = exit_price\n",
    "        self.is_missed = is_missed\n",
    "    def todf(self):\n",
    "        return pd.DataFrame({\n",
    "                \"EnterDate\": self.enter_date,\n",
    "                \"EnterTicker\": self.enter_ticker,\n",
    "                \"EnterPrice\": self.enter_price, \n",
    "                \"InitialStop\": self.initial_stop,\n",
    "                \"TargetPrice\": self.target_price,\n",
    "                \"EnterDirection\": self.enter_direction,\n",
    "                \"ExitDate\": self.exit_date,\n",
    "                \"ExitPrice\": self.exit_price,\n",
    "                \"IsMissed\": self.is_missed\n",
    "            }, index=[0])\n",
    "    def tostr(self):\n",
    "        print(str.format(\n",
    "                \"EnterDate: {0} \\tEnterTicker: {1}\\nEnterPrice: {2} \\t\\tInitialStop: {3}\\nTargetPrice: {4}\\tEnterDirection: {5}\\nExitDate: {6}\\tExitPrice: {7} IsMissed: {8}\"\n",
    "                ,self.enter_date\n",
    "                ,self.enter_ticker\n",
    "                ,self.enter_price\n",
    "                ,self.initial_stop\n",
    "                ,self.target_price\n",
    "                ,self.enter_direction\n",
    "                ,self.exit_date\n",
    "                ,self.exit_price\n",
    "                ,self.is_missed\n",
    "            ) )\n",
    "    \n",
    "def addyears(date_str, num):\n",
    "    d = parser.parse(date_str).date()\n",
    "    return str(d + relativedelta(years=num))\n",
    "def adddays(date_str, num):\n",
    "    d = parser.parse(date_str).date()\n",
    "    return str(d + relativedelta(days=num))\n",
    "def remove_candidate_if_traded(df, result_df):\n",
    "    if any(trade_df.EnterTicker == df.iloc[0].Ticker) and trade_df.loc[trade_df.EnterTicker == df.iloc[0].Ticker].ExitDate.max() > df.iloc[0].Date:\n",
    "        df.drop(df.head(1).index, inplace=True)\n",
    "        remove_candidate_if_traded(df, result_df)"
   ]
  },
  {
   "cell_type": "code",
   "execution_count": null,
   "metadata": {
    "collapsed": false
   },
   "outputs": [],
   "source": [
    "#target_file = \"C:\\\\temp\\\\TripleScreenBear.csv\"\n",
    "target_file = \"C:\\\\temp\\\\WorkingInProgress.csv\"\n",
    "df = pd.read_csv(target_file, parse_dates=True)\n",
    "#df = df.sort_index(ascending=False)"
   ]
  },
  {
   "cell_type": "code",
   "execution_count": null,
   "metadata": {
    "collapsed": true
   },
   "outputs": [],
   "source": [
    "trade_df = pd.DataFrame()"
   ]
  },
  {
   "cell_type": "code",
   "execution_count": null,
   "metadata": {
    "collapsed": false
   },
   "outputs": [],
   "source": [
    "# Login\n",
    "driver = webdriver.Firefox()\n",
    "driver.implicitly_wait(10) # seconds\n",
    "driver.get(\"http://stockcharts.com\")\n",
    "account_json = 'C:\\\\Tools\\\\stockchart.json'\n",
    "with open(account_json) as data_file:    \n",
    "    account_info = json.load(data_file)\n",
    "driver.find_element_by_link_text('Login').click()\n",
    "driver.find_element_by_id('form_UserID').send_keys(account_info['user_name'])\n",
    "driver.find_element_by_name('form_UserPassword').send_keys(account_info['password'])\n",
    "driver.find_element_by_id('loginbutton').submit()"
   ]
  },
  {
   "cell_type": "code",
   "execution_count": null,
   "metadata": {
    "collapsed": false
   },
   "outputs": [],
   "source": [
    "ticker = df.iloc[0].Ticker\n",
    "start_period = df.iloc[0].Date\n",
    "one_year_back = addyears(start_period, -1)\n",
    "driver.find_element_by_id('navsearchtext').send_keys(Keys.CONTROL + 'a' + Keys.NULL,ticker)\n",
    "driver.find_element_by_id('navsearchbutton').click()\n",
    "select = Select(driver.find_element_by_id('dataRange'))\n",
    "select.select_by_visible_text('Select Start/End')\n",
    "driver.find_element_by_id('start').send_keys(Keys.CONTROL + 'a' + Keys.NULL,one_year_back)\n",
    "driver.find_element_by_id('submitButton').click() # otherwise the end date wont change\n",
    "driver.find_element_by_id('end').send_keys(Keys.CONTROL + 'a' + Keys.NULL, start_period)\n",
    "driver.find_element_by_id('submitButton').click()\n",
    "print(str.format('Ticker: {0}\\nDate: {1}', ticker, start_period))"
   ]
  },
  {
   "cell_type": "code",
   "execution_count": null,
   "metadata": {
    "collapsed": false
   },
   "outputs": [],
   "source": [
    "# Happy with the setup and move to the next records that is not traded\n",
    "df.drop(df.head(1).index, inplace=True)\n",
    "remove_candidate_if_traded(df, trade_df)\n",
    "print(df.iloc[0].Ticker + ' ' + df.iloc[0].Date)"
   ]
  },
  {
   "cell_type": "code",
   "execution_count": null,
   "metadata": {
    "collapsed": false
   },
   "outputs": [],
   "source": [
    "enter_date = driver.find_element_by_id('end').get_attribute('value')\n",
    "enter_ticker = ticker\n",
    "enter_price = 45.0\n",
    "initial_stop = 45.67\n",
    "target_price = 43.2\n",
    "enter_direction = 'Short'"
   ]
  },
  {
   "cell_type": "code",
   "execution_count": null,
   "metadata": {
    "collapsed": false
   },
   "outputs": [],
   "source": [
    "exit_date = driver.find_element_by_id('end').get_attribute('value')\n",
    "exit_price = 42.7\n",
    "is_missed = 0\n",
    "trade = TradeResult(enter_date, enter_ticker, enter_price, initial_stop, target_price, enter_direction, exit_date, exit_price, is_missed)\n",
    "trade.tostr()"
   ]
  },
  {
   "cell_type": "code",
   "execution_count": null,
   "metadata": {
    "collapsed": false
   },
   "outputs": [],
   "source": [
    "trade_df = trade_df.append(trade.todf(), ignore_index=True)\n",
    "trade_df.tail(5)"
   ]
  },
  {
   "cell_type": "code",
   "execution_count": null,
   "metadata": {
    "collapsed": true
   },
   "outputs": [],
   "source": []
  },
  {
   "cell_type": "code",
   "execution_count": null,
   "metadata": {
    "collapsed": true
   },
   "outputs": [],
   "source": []
  },
  {
   "cell_type": "code",
   "execution_count": null,
   "metadata": {
    "collapsed": true
   },
   "outputs": [],
   "source": []
  },
  {
   "cell_type": "code",
   "execution_count": null,
   "metadata": {
    "collapsed": true
   },
   "outputs": [],
   "source": []
  },
  {
   "cell_type": "code",
   "execution_count": null,
   "metadata": {
    "collapsed": true
   },
   "outputs": [],
   "source": []
  },
  {
   "cell_type": "code",
   "execution_count": null,
   "metadata": {
    "collapsed": true
   },
   "outputs": [],
   "source": []
  },
  {
   "cell_type": "code",
   "execution_count": null,
   "metadata": {
    "collapsed": true
   },
   "outputs": [],
   "source": []
  },
  {
   "cell_type": "code",
   "execution_count": null,
   "metadata": {
    "collapsed": true
   },
   "outputs": [],
   "source": []
  },
  {
   "cell_type": "code",
   "execution_count": null,
   "metadata": {
    "collapsed": true
   },
   "outputs": [],
   "source": [
    "# save all the trades info for further documentation\n",
    "# header = EnterDate,EnterDirection,EnterPrice,EnterTicker,ExitDate,ExitPrice,InitialStop,IsMissed,TargetPrice\n",
    "result_file = \"C:\\\\temp\\\\trade_result.csv\"\n",
    "with open(result_file, 'a+') as f:\n",
    "    trade_df.to_csv(f, header=False, index=False)"
   ]
  },
  {
   "cell_type": "code",
   "execution_count": null,
   "metadata": {
    "collapsed": true
   },
   "outputs": [],
   "source": [
    "# save the records for next time to work\n",
    "df.to_csv('C:\\\\temp\\\\WorkingInProgress.csv', index=False)"
   ]
  },
  {
   "cell_type": "code",
   "execution_count": null,
   "metadata": {
    "collapsed": true
   },
   "outputs": [],
   "source": []
  }
 ],
 "metadata": {
  "kernelspec": {
   "display_name": "Python 2",
   "language": "python",
   "name": "python2"
  },
  "language_info": {
   "codemirror_mode": {
    "name": "ipython",
    "version": 2
   },
   "file_extension": ".py",
   "mimetype": "text/x-python",
   "name": "python",
   "nbconvert_exporter": "python",
   "pygments_lexer": "ipython2",
   "version": "2.7.11"
  }
 },
 "nbformat": 4,
 "nbformat_minor": 0
}
