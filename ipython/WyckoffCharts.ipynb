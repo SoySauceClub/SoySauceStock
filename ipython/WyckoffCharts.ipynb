{
 "cells": [
  {
   "cell_type": "code",
   "execution_count": 1,
   "metadata": {
    "collapsed": false
   },
   "outputs": [],
   "source": [
    "import json\n",
    "import os\n",
    "import pandas as pd\n",
    "import time\n",
    "\n",
    "from selenium import webdriver\n",
    "from selenium.webdriver.support.ui import Select\n",
    "from selenium.webdriver.common.keys import Keys\n",
    "from selenium.webdriver.support.wait import WebDriverWait\n",
    "from selenium.webdriver.support import expected_conditions as EC\n",
    "from selenium.webdriver.common.by import By"
   ]
  },
  {
   "cell_type": "code",
   "execution_count": null,
   "metadata": {
    "collapsed": true
   },
   "outputs": [],
   "source": [
    "Keys.CONTROL + 'a' + Keys.NULL, "
   ]
  },
  {
   "cell_type": "code",
   "execution_count": null,
   "metadata": {
    "collapsed": true
   },
   "outputs": [],
   "source": [
    "driver.find_element_by_id('navsearchtext').send_keys(Keys.CONTROL + 'a')"
   ]
  },
  {
   "cell_type": "code",
   "execution_count": null,
   "metadata": {
    "collapsed": true
   },
   "outputs": [],
   "source": [
    "\n",
    "driver.find_element_by_id('navsearchtext').send_keys(ticker)"
   ]
  },
  {
   "cell_type": "code",
   "execution_count": null,
   "metadata": {
    "collapsed": true
   },
   "outputs": [],
   "source": [
    "driver.find_element_by_id('navsearchbutton').click()"
   ]
  },
  {
   "cell_type": "code",
   "execution_count": null,
   "metadata": {
    "collapsed": true
   },
   "outputs": [],
   "source": []
  },
  {
   "cell_type": "code",
   "execution_count": 4,
   "metadata": {
    "collapsed": false
   },
   "outputs": [
    {
     "ename": "WebDriverException",
     "evalue": "Message: GET /session/a2ad44a6-f065-40e6-84e3-7530d082bc1a/element/19c1b38a-e487-4b10-877a-59d117abca0d/screenshot did not match a known command\n",
     "output_type": "error",
     "traceback": [
      "\u001b[0;31m---------------------------------------------------------------------------\u001b[0m",
      "\u001b[0;31mWebDriverException\u001b[0m                        Traceback (most recent call last)",
      "\u001b[0;32m<ipython-input-4-519ac4fe82fb>\u001b[0m in \u001b[0;36m<module>\u001b[0;34m()\u001b[0m\n\u001b[1;32m     23\u001b[0m \u001b[0mimg_element\u001b[0m \u001b[1;33m=\u001b[0m \u001b[0mdriver\u001b[0m\u001b[1;33m.\u001b[0m\u001b[0mfind_element_by_id\u001b[0m\u001b[1;33m(\u001b[0m\u001b[1;34m'chartImg'\u001b[0m\u001b[1;33m)\u001b[0m\u001b[1;33m\u001b[0m\u001b[0m\n\u001b[1;32m     24\u001b[0m \u001b[1;31m#img_element.screenshot(save_file_name)\u001b[0m\u001b[1;33m\u001b[0m\u001b[1;33m\u001b[0m\u001b[0m\n\u001b[0;32m---> 25\u001b[0;31m \u001b[0mdata\u001b[0m \u001b[1;33m=\u001b[0m \u001b[0mimg_element\u001b[0m\u001b[1;33m.\u001b[0m\u001b[0mscreenshot_as_png\u001b[0m\u001b[1;33m(\u001b[0m\u001b[1;33m)\u001b[0m\u001b[1;33m\u001b[0m\u001b[0m\n\u001b[0m\u001b[1;32m     26\u001b[0m \u001b[1;31m#driver.get_screenshot_as_file(save_file_name)\u001b[0m\u001b[1;33m\u001b[0m\u001b[1;33m\u001b[0m\u001b[0m\n",
      "\u001b[0;32mC:\\Program Files\\Anaconda2\\lib\\site-packages\\selenium\\webdriver\\remote\\webelement.pyc\u001b[0m in \u001b[0;36mscreenshot_as_png\u001b[0;34m(self)\u001b[0m\n\u001b[1;32m    431\u001b[0m             \u001b[0melement_png\u001b[0m \u001b[1;33m=\u001b[0m \u001b[0melement\u001b[0m\u001b[1;33m.\u001b[0m\u001b[0mscreenshot_as_png\u001b[0m\u001b[1;33m\u001b[0m\u001b[0m\n\u001b[1;32m    432\u001b[0m         \"\"\"\n\u001b[0;32m--> 433\u001b[0;31m         \u001b[1;32mreturn\u001b[0m \u001b[0mbase64\u001b[0m\u001b[1;33m.\u001b[0m\u001b[0mb64decode\u001b[0m\u001b[1;33m(\u001b[0m\u001b[0mself\u001b[0m\u001b[1;33m.\u001b[0m\u001b[0mscreenshot_as_base64\u001b[0m\u001b[1;33m.\u001b[0m\u001b[0mencode\u001b[0m\u001b[1;33m(\u001b[0m\u001b[1;34m'ascii'\u001b[0m\u001b[1;33m)\u001b[0m\u001b[1;33m)\u001b[0m\u001b[1;33m\u001b[0m\u001b[0m\n\u001b[0m\u001b[1;32m    434\u001b[0m \u001b[1;33m\u001b[0m\u001b[0m\n\u001b[1;32m    435\u001b[0m     \u001b[1;32mdef\u001b[0m \u001b[0mscreenshot\u001b[0m\u001b[1;33m(\u001b[0m\u001b[0mself\u001b[0m\u001b[1;33m,\u001b[0m \u001b[0mfilename\u001b[0m\u001b[1;33m)\u001b[0m\u001b[1;33m:\u001b[0m\u001b[1;33m\u001b[0m\u001b[0m\n",
      "\u001b[0;32mC:\\Program Files\\Anaconda2\\lib\\site-packages\\selenium\\webdriver\\remote\\webelement.pyc\u001b[0m in \u001b[0;36mscreenshot_as_base64\u001b[0;34m(self)\u001b[0m\n\u001b[1;32m    421\u001b[0m             \u001b[0mimg_b64\u001b[0m \u001b[1;33m=\u001b[0m \u001b[0melement\u001b[0m\u001b[1;33m.\u001b[0m\u001b[0mscreenshot_as_base64\u001b[0m\u001b[1;33m\u001b[0m\u001b[0m\n\u001b[1;32m    422\u001b[0m         \"\"\"\n\u001b[0;32m--> 423\u001b[0;31m         \u001b[1;32mreturn\u001b[0m \u001b[0mself\u001b[0m\u001b[1;33m.\u001b[0m\u001b[0m_execute\u001b[0m\u001b[1;33m(\u001b[0m\u001b[0mCommand\u001b[0m\u001b[1;33m.\u001b[0m\u001b[0mELEMENT_SCREENSHOT\u001b[0m\u001b[1;33m)\u001b[0m\u001b[1;33m[\u001b[0m\u001b[1;34m'value'\u001b[0m\u001b[1;33m]\u001b[0m\u001b[1;33m\u001b[0m\u001b[0m\n\u001b[0m\u001b[1;32m    424\u001b[0m \u001b[1;33m\u001b[0m\u001b[0m\n\u001b[1;32m    425\u001b[0m     \u001b[1;33m@\u001b[0m\u001b[0mproperty\u001b[0m\u001b[1;33m\u001b[0m\u001b[0m\n",
      "\u001b[0;32mC:\\Program Files\\Anaconda2\\lib\\site-packages\\selenium\\webdriver\\remote\\webelement.pyc\u001b[0m in \u001b[0;36m_execute\u001b[0;34m(self, command, params)\u001b[0m\n\u001b[1;32m    492\u001b[0m             \u001b[0mparams\u001b[0m \u001b[1;33m=\u001b[0m \u001b[1;33m{\u001b[0m\u001b[1;33m}\u001b[0m\u001b[1;33m\u001b[0m\u001b[0m\n\u001b[1;32m    493\u001b[0m         \u001b[0mparams\u001b[0m\u001b[1;33m[\u001b[0m\u001b[1;34m'id'\u001b[0m\u001b[1;33m]\u001b[0m \u001b[1;33m=\u001b[0m \u001b[0mself\u001b[0m\u001b[1;33m.\u001b[0m\u001b[0m_id\u001b[0m\u001b[1;33m\u001b[0m\u001b[0m\n\u001b[0;32m--> 494\u001b[0;31m         \u001b[1;32mreturn\u001b[0m \u001b[0mself\u001b[0m\u001b[1;33m.\u001b[0m\u001b[0m_parent\u001b[0m\u001b[1;33m.\u001b[0m\u001b[0mexecute\u001b[0m\u001b[1;33m(\u001b[0m\u001b[0mcommand\u001b[0m\u001b[1;33m,\u001b[0m \u001b[0mparams\u001b[0m\u001b[1;33m)\u001b[0m\u001b[1;33m\u001b[0m\u001b[0m\n\u001b[0m\u001b[1;32m    495\u001b[0m \u001b[1;33m\u001b[0m\u001b[0m\n\u001b[1;32m    496\u001b[0m     \u001b[1;32mdef\u001b[0m \u001b[0mfind_element\u001b[0m\u001b[1;33m(\u001b[0m\u001b[0mself\u001b[0m\u001b[1;33m,\u001b[0m \u001b[0mby\u001b[0m\u001b[1;33m=\u001b[0m\u001b[0mBy\u001b[0m\u001b[1;33m.\u001b[0m\u001b[0mID\u001b[0m\u001b[1;33m,\u001b[0m \u001b[0mvalue\u001b[0m\u001b[1;33m=\u001b[0m\u001b[0mNone\u001b[0m\u001b[1;33m)\u001b[0m\u001b[1;33m:\u001b[0m\u001b[1;33m\u001b[0m\u001b[0m\n",
      "\u001b[0;32mC:\\Program Files\\Anaconda2\\lib\\site-packages\\selenium\\webdriver\\remote\\webdriver.pyc\u001b[0m in \u001b[0;36mexecute\u001b[0;34m(self, driver_command, params)\u001b[0m\n\u001b[1;32m    234\u001b[0m         \u001b[0mresponse\u001b[0m \u001b[1;33m=\u001b[0m \u001b[0mself\u001b[0m\u001b[1;33m.\u001b[0m\u001b[0mcommand_executor\u001b[0m\u001b[1;33m.\u001b[0m\u001b[0mexecute\u001b[0m\u001b[1;33m(\u001b[0m\u001b[0mdriver_command\u001b[0m\u001b[1;33m,\u001b[0m \u001b[0mparams\u001b[0m\u001b[1;33m)\u001b[0m\u001b[1;33m\u001b[0m\u001b[0m\n\u001b[1;32m    235\u001b[0m         \u001b[1;32mif\u001b[0m \u001b[0mresponse\u001b[0m\u001b[1;33m:\u001b[0m\u001b[1;33m\u001b[0m\u001b[0m\n\u001b[0;32m--> 236\u001b[0;31m             \u001b[0mself\u001b[0m\u001b[1;33m.\u001b[0m\u001b[0merror_handler\u001b[0m\u001b[1;33m.\u001b[0m\u001b[0mcheck_response\u001b[0m\u001b[1;33m(\u001b[0m\u001b[0mresponse\u001b[0m\u001b[1;33m)\u001b[0m\u001b[1;33m\u001b[0m\u001b[0m\n\u001b[0m\u001b[1;32m    237\u001b[0m             response['value'] = self._unwrap_value(\n\u001b[1;32m    238\u001b[0m                 response.get('value', None))\n",
      "\u001b[0;32mC:\\Program Files\\Anaconda2\\lib\\site-packages\\selenium\\webdriver\\remote\\errorhandler.pyc\u001b[0m in \u001b[0;36mcheck_response\u001b[0;34m(self, response)\u001b[0m\n\u001b[1;32m    190\u001b[0m         \u001b[1;32melif\u001b[0m \u001b[0mexception_class\u001b[0m \u001b[1;33m==\u001b[0m \u001b[0mUnexpectedAlertPresentException\u001b[0m \u001b[1;32mand\u001b[0m \u001b[1;34m'alert'\u001b[0m \u001b[1;32min\u001b[0m \u001b[0mvalue\u001b[0m\u001b[1;33m:\u001b[0m\u001b[1;33m\u001b[0m\u001b[0m\n\u001b[1;32m    191\u001b[0m             \u001b[1;32mraise\u001b[0m \u001b[0mexception_class\u001b[0m\u001b[1;33m(\u001b[0m\u001b[0mmessage\u001b[0m\u001b[1;33m,\u001b[0m \u001b[0mscreen\u001b[0m\u001b[1;33m,\u001b[0m \u001b[0mstacktrace\u001b[0m\u001b[1;33m,\u001b[0m \u001b[0mvalue\u001b[0m\u001b[1;33m[\u001b[0m\u001b[1;34m'alert'\u001b[0m\u001b[1;33m]\u001b[0m\u001b[1;33m.\u001b[0m\u001b[0mget\u001b[0m\u001b[1;33m(\u001b[0m\u001b[1;34m'text'\u001b[0m\u001b[1;33m)\u001b[0m\u001b[1;33m)\u001b[0m\u001b[1;33m\u001b[0m\u001b[0m\n\u001b[0;32m--> 192\u001b[0;31m         \u001b[1;32mraise\u001b[0m \u001b[0mexception_class\u001b[0m\u001b[1;33m(\u001b[0m\u001b[0mmessage\u001b[0m\u001b[1;33m,\u001b[0m \u001b[0mscreen\u001b[0m\u001b[1;33m,\u001b[0m \u001b[0mstacktrace\u001b[0m\u001b[1;33m)\u001b[0m\u001b[1;33m\u001b[0m\u001b[0m\n\u001b[0m\u001b[1;32m    193\u001b[0m \u001b[1;33m\u001b[0m\u001b[0m\n\u001b[1;32m    194\u001b[0m     \u001b[1;32mdef\u001b[0m \u001b[0m_value_or_default\u001b[0m\u001b[1;33m(\u001b[0m\u001b[0mself\u001b[0m\u001b[1;33m,\u001b[0m \u001b[0mobj\u001b[0m\u001b[1;33m,\u001b[0m \u001b[0mkey\u001b[0m\u001b[1;33m,\u001b[0m \u001b[0mdefault\u001b[0m\u001b[1;33m)\u001b[0m\u001b[1;33m:\u001b[0m\u001b[1;33m\u001b[0m\u001b[0m\n",
      "\u001b[0;31mWebDriverException\u001b[0m: Message: GET /session/a2ad44a6-f065-40e6-84e3-7530d082bc1a/element/19c1b38a-e487-4b10-877a-59d117abca0d/screenshot did not match a known command\n"
     ]
    }
   ],
   "source": [
    "#debug only\n",
    "ticker = 'G.TO'\n",
    "date_str =  '20161216'\n",
    "dest = can_root_folder\n",
    "save_file_name = os.path.join(dest, str.format('{0}_{1}.png', ticker.replace('/','-'), date_str))\n",
    "driver.find_element_by_id('navsearchtext').send_keys(Keys.CONTROL + 'a')\n",
    "driver.find_element_by_id('navsearchtext').send_keys(ticker)\n",
    "driver.find_element_by_id('navsearchbutton').click()\n",
    "date_time_range = driver.find_element_by_id('dataRange')\n",
    "select = Select(date_time_range)\n",
    "select.select_by_visible_text('Select Start/End')\n",
    "start_date = str(int(date_str) - 30000)\n",
    "wait = WebDriverWait(driver, 5)\n",
    "driver.find_element_by_id('start').send_keys(Keys.CONTROL + 'a' + Keys.NULL, start_date)\n",
    "submit_button = driver.find_element_by_id('submitButton')\n",
    "submit_button.click() # otherwise the end date wont change\n",
    "wait.until(EC.staleness_of(submit_button))\n",
    "driver.find_element_by_id('end').send_keys(Keys.CONTROL + 'a' + Keys.NULL, date_str)\n",
    "submit_button = driver.find_element_by_id('submitButton')\n",
    "submit_button.click()\n",
    "wait.until(EC.staleness_of(submit_button))\n",
    "time.sleep(3)\n",
    "img_element = driver.find_element_by_id('chartImg')\n",
    "#img_element.screenshot(save_file_name)\n",
    "data = img_element.screenshot_as_png()\n",
    "#driver.get_screenshot_as_file(save_file_name)"
   ]
  },
  {
   "cell_type": "code",
   "execution_count": null,
   "metadata": {
    "collapsed": true
   },
   "outputs": [],
   "source": []
  },
  {
   "cell_type": "code",
   "execution_count": null,
   "metadata": {
    "collapsed": false
   },
   "outputs": [],
   "source": [
    "def save_chart(ticker, driver, date_str, dest):\n",
    "    save_file_name = os.path.join(dest, str.format('{0}_{1}.png', ticker.replace('/','-'), date_str))\n",
    "    driver.find_element_by_id('navsearchtext').send_keys(Keys.CONTROL + 'a')\n",
    "    driver.find_element_by_id('navsearchtext').send_keys(ticker)\n",
    "    driver.find_element_by_id('navsearchbutton').click()\n",
    "    date_time_range = driver.find_element_by_id('dataRange')\n",
    "    select = Select(date_time_range)\n",
    "    select.select_by_visible_text('Select Start/End')\n",
    "    start_date = str(int(date_str) - 30000)\n",
    "    wait = WebDriverWait(driver, 5)\n",
    "    driver.find_element_by_id('start').send_keys(Keys.CONTROL + 'a' + Keys.NULL, start_date)\n",
    "    submit_button = driver.find_element_by_id('submitButton')\n",
    "    submit_button.click() # otherwise the end date wont change\n",
    "    wait.until(EC.staleness_of(submit_button))\n",
    "    driver.find_element_by_id('end').send_keys(Keys.CONTROL + 'a' + Keys.NULL, date_str)\n",
    "    submit_button = driver.find_element_by_id('submitButton')\n",
    "    submit_button.click()\n",
    "    wait.until(EC.staleness_of(submit_button))\n",
    "    driver.get_screenshot_as_file(save_file_name)\n"
   ]
  },
  {
   "cell_type": "code",
   "execution_count": 2,
   "metadata": {
    "collapsed": false
   },
   "outputs": [],
   "source": [
    "from selenium.webdriver.firefox.firefox_binary import FirefoxBinary\n",
    "binary = FirefoxBinary(r'C:\\Program Files (x86)\\Mozilla Firefox\\firefox.exe')\n",
    "profile = webdriver.FirefoxProfile()\n",
    "profile.set_preference('toolkit.startup.max_resumed_crashes', -1)\n",
    "driver = webdriver.Firefox(profile, firefox_binary=binary)\n",
    "driver.implicitly_wait(10) # seconds\n",
    "driver.get(\"http://stockcharts.com\")\n",
    "account_json = 'C:\\\\Tools\\\\stockchart.json'\n",
    "with open(account_json) as data_file:    \n",
    "    account_info = json.load(data_file)\n",
    "driver.find_element_by_link_text('Login').click()\n",
    "driver.find_element_by_id('form_UserID').send_keys(account_info['user_name'])\n",
    "driver.find_element_by_name('form_UserPassword').send_keys(account_info['password'])\n",
    "driver.find_element_by_class_name('login-panel-button').submit()"
   ]
  },
  {
   "cell_type": "code",
   "execution_count": 3,
   "metadata": {
    "collapsed": true
   },
   "outputs": [],
   "source": [
    "date_str = '20161216'\n",
    "can_root_folder = 'C:\\\\Trade\\\\Wyckoff\\\\CAN'\n",
    "usa_root_folder = 'C:\\\\Trade\\\\Wyckoff\\\\USA'"
   ]
  },
  {
   "cell_type": "code",
   "execution_count": null,
   "metadata": {
    "collapsed": false
   },
   "outputs": [],
   "source": [
    "canadian_trade_list = 'C:\\\\Trade\\\\Wyckoff\\\\CAN\\\\universe.csv'\n",
    "can_list = pd.read_csv(canadian_trade_list)\n",
    "for index in range(0, can_list.Ticker.size):\n",
    "    ticker = can_list.iloc[index].Ticker\n",
    "    save_chart(ticker, driver, date_str, can_root_folder)"
   ]
  },
  {
   "cell_type": "code",
   "execution_count": null,
   "metadata": {
    "collapsed": false
   },
   "outputs": [],
   "source": [
    "us_trade_list = 'C:\\\\Trade\\\\Wyckoff\\\\USA\\\\universe.csv'\n",
    "usa_list = pd.read_csv(us_trade_list)\n",
    "for index in range(0, usa_list.Ticker.size):\n",
    "    ticker = usa_list.iloc[index].Ticker\n",
    "    save_chart(ticker, driver, date_str, usa_root_folder)"
   ]
  },
  {
   "cell_type": "code",
   "execution_count": null,
   "metadata": {
    "collapsed": true
   },
   "outputs": [],
   "source": [
    "date_str = '20161014'\n",
    "can_root_folder = 'C:\\\\Trade\\\\Wyckoff\\\\CAN'\n",
    "usa_root_folder = 'C:\\\\Trade\\\\Wyckoff\\\\USA'"
   ]
  },
  {
   "cell_type": "code",
   "execution_count": null,
   "metadata": {
    "collapsed": true
   },
   "outputs": [],
   "source": [
    "canadian_trade_list = 'C:\\\\Trade\\\\Wyckoff\\\\CAN\\\\universe.csv'\n",
    "can_list = pd.read_csv(canadian_trade_list)\n",
    "for index in range(0, can_list.Ticker.size):\n",
    "    ticker = can_list.iloc[index].Ticker\n",
    "    save_chart(ticker, driver, date_str, can_root_folder)"
   ]
  },
  {
   "cell_type": "code",
   "execution_count": null,
   "metadata": {
    "collapsed": true
   },
   "outputs": [],
   "source": [
    "us_trade_list = 'C:\\\\Trade\\\\Wyckoff\\\\USA\\\\universe.csv'\n",
    "usa_list = pd.read_csv(us_trade_list)\n",
    "for index in range(0, usa_list.Ticker.size):\n",
    "    ticker = usa_list.iloc[index].Ticker\n",
    "    save_chart(ticker, driver, date_str, usa_root_folder)"
   ]
  },
  {
   "cell_type": "code",
   "execution_count": null,
   "metadata": {
    "collapsed": true
   },
   "outputs": [],
   "source": [
    "date_str = '20161007'\n",
    "can_root_folder = 'C:\\\\Trade\\\\Wyckoff\\\\CAN'\n",
    "usa_root_folder = 'C:\\\\Trade\\\\Wyckoff\\\\USA'\n",
    "canadian_trade_list = 'C:\\\\Trade\\\\Wyckoff\\\\CAN\\\\universe.csv'\n",
    "can_list = pd.read_csv(canadian_trade_list)\n",
    "for index in range(0, can_list.Ticker.size):\n",
    "    ticker = can_list.iloc[index].Ticker\n",
    "    save_chart(ticker, driver, date_str, can_root_folder)\n",
    "us_trade_list = 'C:\\\\Trade\\\\Wyckoff\\\\USA\\\\universe.csv'\n",
    "usa_list = pd.read_csv(us_trade_list)\n",
    "for index in range(0, usa_list.Ticker.size):\n",
    "    ticker = usa_list.iloc[index].Ticker\n",
    "    save_chart(ticker, driver, date_str, usa_root_folder)"
   ]
  },
  {
   "cell_type": "code",
   "execution_count": null,
   "metadata": {
    "collapsed": true
   },
   "outputs": [],
   "source": [
    "date_str = '20160930'\n",
    "can_root_folder = 'C:\\\\Trade\\\\Wyckoff\\\\CAN'\n",
    "usa_root_folder = 'C:\\\\Trade\\\\Wyckoff\\\\USA'\n",
    "canadian_trade_list = 'C:\\\\Trade\\\\Wyckoff\\\\CAN\\\\universe.csv'\n",
    "can_list = pd.read_csv(canadian_trade_list)\n",
    "for index in range(0, can_list.Ticker.size):\n",
    "    ticker = can_list.iloc[index].Ticker\n",
    "    save_chart(ticker, driver, date_str, can_root_folder)\n",
    "us_trade_list = 'C:\\\\Trade\\\\Wyckoff\\\\USA\\\\universe.csv'\n",
    "usa_list = pd.read_csv(us_trade_list)\n",
    "for index in range(0, usa_list.Ticker.size):\n",
    "    ticker = usa_list.iloc[index].Ticker\n",
    "    save_chart(ticker, driver, date_str, usa_root_folder)\n",
    "    "
   ]
  },
  {
   "cell_type": "code",
   "execution_count": null,
   "metadata": {
    "collapsed": true
   },
   "outputs": [],
   "source": [
    "date_str = '20161028'\n",
    "can_root_folder = 'C:\\\\Trade\\\\Wyckoff\\\\CAN'\n",
    "usa_root_folder = 'C:\\\\Trade\\\\Wyckoff\\\\USA'\n",
    "canadian_trade_list = 'C:\\\\Trade\\\\Wyckoff\\\\CAN\\\\universe.csv'\n",
    "can_list = pd.read_csv(canadian_trade_list)\n",
    "for index in range(0, can_list.Ticker.size):\n",
    "    ticker = can_list.iloc[index].Ticker\n",
    "    save_chart(ticker, driver, date_str, can_root_folder)\n",
    "us_trade_list = 'C:\\\\Trade\\\\Wyckoff\\\\USA\\\\universe.csv'\n",
    "usa_list = pd.read_csv(us_trade_list)\n",
    "for index in range(0, usa_list.Ticker.size):\n",
    "    ticker = usa_list.iloc[index].Ticker\n",
    "    save_chart(ticker, driver, date_str, usa_root_folder)"
   ]
  },
  {
   "cell_type": "code",
   "execution_count": null,
   "metadata": {
    "collapsed": false
   },
   "outputs": [],
   "source": [
    "driver.close()"
   ]
  },
  {
   "cell_type": "code",
   "execution_count": null,
   "metadata": {
    "collapsed": true
   },
   "outputs": [],
   "source": []
  }
 ],
 "metadata": {
  "anaconda-cloud": {},
  "kernelspec": {
   "display_name": "Python [default]",
   "language": "python",
   "name": "python2"
  },
  "language_info": {
   "codemirror_mode": {
    "name": "ipython",
    "version": 2
   },
   "file_extension": ".py",
   "mimetype": "text/x-python",
   "name": "python",
   "nbconvert_exporter": "python",
   "pygments_lexer": "ipython2",
   "version": "2.7.12"
  }
 },
 "nbformat": 4,
 "nbformat_minor": 0
}
