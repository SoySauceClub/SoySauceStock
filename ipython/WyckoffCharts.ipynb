{
 "cells": [
  {
   "cell_type": "code",
   "execution_count": 7,
   "metadata": {
    "collapsed": false
   },
   "outputs": [],
   "source": [
    "#pip install selenium==2.52.0\n",
    "#require firefox version 46 and not newer\n",
    "import json\n",
    "import os\n",
    "import pandas as pd\n",
    "import time\n",
    "\n",
    "from selenium import webdriver\n",
    "from selenium.webdriver.support.ui import Select\n",
    "from selenium.webdriver.common.keys import Keys\n",
    "from selenium.webdriver.support.wait import WebDriverWait\n",
    "from selenium.webdriver.support import expected_conditions as EC\n",
    "from selenium.webdriver.common.by import By"
   ]
  },
  {
   "cell_type": "code",
   "execution_count": null,
   "metadata": {
    "collapsed": false
   },
   "outputs": [],
   "source": [
    "#debug only\n",
    "ticker = 'G.TO'\n",
    "date_str =  '20161216'\n",
    "dest = can_root_folder\n",
    "save_file_name = os.path.join(dest, str.format('{0}_{1}.png', ticker.replace('/','-'), date_str))\n",
    "driver.find_element_by_id('navsearchtext').send_keys(Keys.CONTROL + 'a')\n",
    "driver.find_element_by_id('navsearchtext').send_keys(ticker)\n",
    "driver.find_element_by_id('navsearchbutton').click()\n",
    "date_time_range = driver.find_element_by_id('dataRange')\n",
    "select = Select(date_time_range)\n",
    "select.select_by_visible_text('Select Start/End')\n",
    "start_date = str(int(date_str) - 30000)\n",
    "wait = WebDriverWait(driver, 5)\n",
    "driver.find_element_by_id('start').send_keys(Keys.CONTROL + 'a' + Keys.NULL, start_date)\n",
    "submit_button = driver.find_element_by_id('submitButton')\n",
    "submit_button.click() # otherwise the end date wont change\n",
    "wait.until(EC.staleness_of(submit_button))\n",
    "driver.find_element_by_id('end').send_keys(Keys.CONTROL + 'a' + Keys.NULL, date_str)\n",
    "submit_button = driver.find_element_by_id('submitButton')\n",
    "submit_button.click()\n",
    "wait.until(EC.staleness_of(submit_button))\n",
    "img_element = driver.find_element_by_id('chartImg')\n",
    "#img_element.screenshot(save_file_name)\n",
    "data = img_element.screenshot_as_png()\n",
    "driver.get_screenshot_as_file(save_file_name)"
   ]
  },
  {
   "cell_type": "code",
   "execution_count": 8,
   "metadata": {
    "collapsed": false
   },
   "outputs": [],
   "source": [
    "def save_chart(ticker, driver, date_str, dest):\n",
    "    save_file_name = os.path.join(dest, str.format('{0}_{1}.png', ticker.replace('/','-'), date_str))\n",
    "    driver.find_element_by_id('navsearchtext').send_keys(Keys.CONTROL + 'a')\n",
    "    driver.find_element_by_id('navsearchtext').send_keys(ticker)\n",
    "    driver.find_element_by_id('navsearchbutton').click()\n",
    "    date_time_range = driver.find_element_by_id('dataRange')\n",
    "    select = Select(date_time_range)\n",
    "    select.select_by_visible_text('Select Start/End')\n",
    "    start_date = str(int(date_str) - 20000)\n",
    "    #wait = WebDriverWait(driver, 5)\n",
    "    driver.find_element_by_id('start').send_keys(Keys.CONTROL + 'a' + Keys.NULL, start_date)\n",
    "    submit_button = driver.find_element_by_id('submitButton')\n",
    "    submit_button.click() # otherwise the end date wont change\n",
    "    #wait.until(EC.staleness_of(submit_button))\n",
    "    driver.find_element_by_id('end').send_keys(Keys.CONTROL + 'a' + Keys.NULL, date_str)\n",
    "    submit_button = driver.find_element_by_id('submitButton')\n",
    "    submit_button.click()\n",
    "    #wait.until(EC.staleness_of(submit_button))\n",
    "    driver.get_screenshot_as_file(save_file_name)\n"
   ]
  },
  {
   "cell_type": "code",
   "execution_count": 12,
   "metadata": {
    "collapsed": false
   },
   "outputs": [],
   "source": [
    "from selenium.webdriver.firefox.firefox_binary import FirefoxBinary\n",
    "profile = webdriver.FirefoxProfile()\n",
    "profile.set_preference('toolkit.startup.max_resumed_crashes', -1)\n",
    "driver = webdriver.Firefox(profile)\n",
    "driver.implicitly_wait(10) # seconds\n",
    "driver.get(\"http://stockcharts.com\")\n",
    "account_json = 'C:\\\\Tools\\\\stockchart.json'\n",
    "with open(account_json) as data_file:    \n",
    "    account_info = json.load(data_file)\n",
    "driver.find_element_by_link_text('Login').click()\n",
    "driver.find_element_by_id('form_UserID').send_keys(account_info['user_name'])\n",
    "driver.find_element_by_name('form_UserPassword').send_keys(account_info['password'])\n",
    "driver.find_element_by_class_name('login-panel-button').submit()"
   ]
  },
  {
   "cell_type": "code",
   "execution_count": 10,
   "metadata": {
    "collapsed": true
   },
   "outputs": [],
   "source": [
    "date_str = '20161028'\n",
    "can_root_folder = 'C:\\\\Trade\\\\Wyckoff\\\\CAN'\n",
    "usa_root_folder = 'C:\\\\Trade\\\\Wyckoff\\\\USA'"
   ]
  },
  {
   "cell_type": "code",
   "execution_count": 14,
   "metadata": {
    "collapsed": false
   },
   "outputs": [],
   "source": [
    "canadian_trade_list = 'C:\\\\Trade\\\\Wyckoff\\\\CAN\\\\universe.csv'\n",
    "can_list = pd.read_csv(canadian_trade_list)\n",
    "for index in range(0, can_list.Ticker.size):\n",
    "    ticker = can_list.iloc[index].Ticker\n",
    "    save_chart(ticker, driver, date_str, can_root_folder)"
   ]
  },
  {
   "cell_type": "code",
   "execution_count": 15,
   "metadata": {
    "collapsed": false
   },
   "outputs": [],
   "source": [
    "us_trade_list = 'C:\\\\Trade\\\\Wyckoff\\\\USA\\\\universe.csv'\n",
    "usa_list = pd.read_csv(us_trade_list)\n",
    "for index in range(0, usa_list.Ticker.size):\n",
    "    ticker = usa_list.iloc[index].Ticker\n",
    "    save_chart(ticker, driver, date_str, usa_root_folder)"
   ]
  },
  {
   "cell_type": "code",
   "execution_count": 16,
   "metadata": {
    "collapsed": true
   },
   "outputs": [],
   "source": [
    "date_str = '20161104'\n",
    "can_root_folder = 'C:\\\\Trade\\\\Wyckoff\\\\CAN'\n",
    "usa_root_folder = 'C:\\\\Trade\\\\Wyckoff\\\\USA'"
   ]
  },
  {
   "cell_type": "code",
   "execution_count": 17,
   "metadata": {
    "collapsed": true
   },
   "outputs": [],
   "source": [
    "canadian_trade_list = 'C:\\\\Trade\\\\Wyckoff\\\\CAN\\\\universe.csv'\n",
    "can_list = pd.read_csv(canadian_trade_list)\n",
    "for index in range(0, can_list.Ticker.size):\n",
    "    ticker = can_list.iloc[index].Ticker\n",
    "    save_chart(ticker, driver, date_str, can_root_folder)"
   ]
  },
  {
   "cell_type": "code",
   "execution_count": 18,
   "metadata": {
    "collapsed": true
   },
   "outputs": [],
   "source": [
    "us_trade_list = 'C:\\\\Trade\\\\Wyckoff\\\\USA\\\\universe.csv'\n",
    "usa_list = pd.read_csv(us_trade_list)\n",
    "for index in range(0, usa_list.Ticker.size):\n",
    "    ticker = usa_list.iloc[index].Ticker\n",
    "    save_chart(ticker, driver, date_str, usa_root_folder)"
   ]
  },
  {
   "cell_type": "code",
   "execution_count": 19,
   "metadata": {
    "collapsed": true
   },
   "outputs": [],
   "source": [
    "date_str = '20161111'\n",
    "can_root_folder = 'C:\\\\Trade\\\\Wyckoff\\\\CAN'\n",
    "usa_root_folder = 'C:\\\\Trade\\\\Wyckoff\\\\USA'\n",
    "canadian_trade_list = 'C:\\\\Trade\\\\Wyckoff\\\\CAN\\\\universe.csv'\n",
    "can_list = pd.read_csv(canadian_trade_list)\n",
    "for index in range(0, can_list.Ticker.size):\n",
    "    ticker = can_list.iloc[index].Ticker\n",
    "    save_chart(ticker, driver, date_str, can_root_folder)\n",
    "us_trade_list = 'C:\\\\Trade\\\\Wyckoff\\\\USA\\\\universe.csv'\n",
    "usa_list = pd.read_csv(us_trade_list)\n",
    "for index in range(0, usa_list.Ticker.size):\n",
    "    ticker = usa_list.iloc[index].Ticker\n",
    "    save_chart(ticker, driver, date_str, usa_root_folder)"
   ]
  },
  {
   "cell_type": "code",
   "execution_count": 20,
   "metadata": {
    "collapsed": true
   },
   "outputs": [],
   "source": [
    "date_str = '20161118'\n",
    "can_root_folder = 'C:\\\\Trade\\\\Wyckoff\\\\CAN'\n",
    "usa_root_folder = 'C:\\\\Trade\\\\Wyckoff\\\\USA'\n",
    "canadian_trade_list = 'C:\\\\Trade\\\\Wyckoff\\\\CAN\\\\universe.csv'\n",
    "can_list = pd.read_csv(canadian_trade_list)\n",
    "for index in range(0, can_list.Ticker.size):\n",
    "    ticker = can_list.iloc[index].Ticker\n",
    "    save_chart(ticker, driver, date_str, can_root_folder)\n",
    "us_trade_list = 'C:\\\\Trade\\\\Wyckoff\\\\USA\\\\universe.csv'\n",
    "usa_list = pd.read_csv(us_trade_list)\n",
    "for index in range(0, usa_list.Ticker.size):\n",
    "    ticker = usa_list.iloc[index].Ticker\n",
    "    save_chart(ticker, driver, date_str, usa_root_folder)\n",
    "    "
   ]
  },
  {
   "cell_type": "code",
   "execution_count": 21,
   "metadata": {
    "collapsed": true
   },
   "outputs": [],
   "source": [
    "date_str = '20161125'\n",
    "can_root_folder = 'C:\\\\Trade\\\\Wyckoff\\\\CAN'\n",
    "usa_root_folder = 'C:\\\\Trade\\\\Wyckoff\\\\USA'\n",
    "canadian_trade_list = 'C:\\\\Trade\\\\Wyckoff\\\\CAN\\\\universe.csv'\n",
    "can_list = pd.read_csv(canadian_trade_list)\n",
    "for index in range(0, can_list.Ticker.size):\n",
    "    ticker = can_list.iloc[index].Ticker\n",
    "    save_chart(ticker, driver, date_str, can_root_folder)\n",
    "us_trade_list = 'C:\\\\Trade\\\\Wyckoff\\\\USA\\\\universe.csv'\n",
    "usa_list = pd.read_csv(us_trade_list)\n",
    "for index in range(0, usa_list.Ticker.size):\n",
    "    ticker = usa_list.iloc[index].Ticker\n",
    "    save_chart(ticker, driver, date_str, usa_root_folder)"
   ]
  },
  {
   "cell_type": "code",
   "execution_count": 22,
   "metadata": {
    "collapsed": false
   },
   "outputs": [],
   "source": [
    "driver.close()"
   ]
  },
  {
   "cell_type": "code",
   "execution_count": null,
   "metadata": {
    "collapsed": true
   },
   "outputs": [],
   "source": []
  }
 ],
 "metadata": {
  "anaconda-cloud": {},
  "kernelspec": {
   "display_name": "Python [default]",
   "language": "python",
   "name": "python2"
  },
  "language_info": {
   "codemirror_mode": {
    "name": "ipython",
    "version": 2
   },
   "file_extension": ".py",
   "mimetype": "text/x-python",
   "name": "python",
   "nbconvert_exporter": "python",
   "pygments_lexer": "ipython2",
   "version": "2.7.12"
  }
 },
 "nbformat": 4,
 "nbformat_minor": 0
}
