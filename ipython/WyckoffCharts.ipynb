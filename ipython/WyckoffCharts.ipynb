{
 "cells": [
  {
   "cell_type": "code",
   "execution_count": 1,
   "metadata": {
    "collapsed": false
   },
   "outputs": [],
   "source": [
    "import json\n",
    "import os\n",
    "import pandas as pd\n",
    "\n",
    "from selenium import webdriver\n",
    "from selenium.webdriver.support.ui import Select\n",
    "from selenium.webdriver.common.keys import Keys"
   ]
  },
  {
   "cell_type": "code",
   "execution_count": 2,
   "metadata": {
    "collapsed": false
   },
   "outputs": [],
   "source": [
    "def save_chart(ticker, driver, date_str, dest):\n",
    "    save_file_name = os.path.join(dest, str.format('{0}_{1}.png', ticker.replace('/','-'), date_str))\n",
    "    driver.find_element_by_id('navsearchtext').send_keys(Keys.CONTROL + 'a' + Keys.NULL, ticker)\n",
    "    driver.find_element_by_id('navsearchbutton').click()\n",
    "    select = Select(driver.find_element_by_id('dataRange'))\n",
    "    select.select_by_visible_text('Select Start/End')\n",
    "    start_date = str(int(date_str) - 10000)\n",
    "    driver.find_element_by_id('start').send_keys(Keys.CONTROL + 'a' + Keys.NULL, start_date)\n",
    "    driver.find_element_by_id('submitButton').click() # otherwise the end date wont change\n",
    "    driver.find_element_by_id('end').send_keys(Keys.CONTROL + 'a' + Keys.NULL, date_str)\n",
    "    driver.find_element_by_id('submitButton').click()\n",
    "    driver.get_screenshot_as_file(save_file_name)\n"
   ]
  },
  {
   "cell_type": "code",
   "execution_count": 3,
   "metadata": {
    "collapsed": false
   },
   "outputs": [],
   "source": [
    "profile = webdriver.FirefoxProfile()\n",
    "profile.set_preference('toolkit.startup.max_resumed_crashes', -1)\n",
    "driver = webdriver.Firefox(profile)\n",
    "driver.implicitly_wait(10) # seconds\n",
    "driver.get(\"http://stockcharts.com\")\n",
    "account_json = 'C:\\\\Tools\\\\stockchart.json'\n",
    "with open(account_json) as data_file:    \n",
    "    account_info = json.load(data_file)\n",
    "driver.find_element_by_link_text('Login').click()\n",
    "driver.find_element_by_id('form_UserID').send_keys(account_info['user_name'])\n",
    "driver.find_element_by_name('form_UserPassword').send_keys(account_info['password'])\n",
    "driver.find_element_by_class_name('login-panel-button').submit()"
   ]
  },
  {
   "cell_type": "code",
   "execution_count": 4,
   "metadata": {
    "collapsed": true
   },
   "outputs": [],
   "source": [
    "date_str = '20161021'\n",
    "can_root_folder = 'C:\\\\Trade\\\\Wyckoff\\\\CAN'\n",
    "usa_root_folder = 'C:\\\\Trade\\\\Wyckoff\\\\USA'"
   ]
  },
  {
   "cell_type": "code",
   "execution_count": 5,
   "metadata": {
    "collapsed": false
   },
   "outputs": [],
   "source": [
    "canadian_trade_list = 'C:\\\\Trade\\\\Wyckoff\\\\CAN\\\\universe.csv'\n",
    "can_list = pd.read_csv(canadian_trade_list)\n",
    "for index in range(0, can_list.Ticker.size):\n",
    "    ticker = can_list.iloc[index].Ticker\n",
    "    save_chart(ticker, driver, date_str, can_root_folder)"
   ]
  },
  {
   "cell_type": "code",
   "execution_count": 6,
   "metadata": {
    "collapsed": false
   },
   "outputs": [],
   "source": [
    "us_trade_list = 'C:\\\\Trade\\\\Wyckoff\\\\USA\\\\universe.csv'\n",
    "usa_list = pd.read_csv(us_trade_list)\n",
    "for index in range(0, usa_list.Ticker.size):\n",
    "    ticker = usa_list.iloc[index].Ticker\n",
    "    save_chart(ticker, driver, date_str, usa_root_folder)"
   ]
  },
  {
   "cell_type": "code",
   "execution_count": 7,
   "metadata": {
    "collapsed": true
   },
   "outputs": [],
   "source": [
    "date_str = '20161014'\n",
    "can_root_folder = 'C:\\\\Trade\\\\Wyckoff\\\\CAN'\n",
    "usa_root_folder = 'C:\\\\Trade\\\\Wyckoff\\\\USA'"
   ]
  },
  {
   "cell_type": "code",
   "execution_count": 8,
   "metadata": {
    "collapsed": true
   },
   "outputs": [],
   "source": [
    "canadian_trade_list = 'C:\\\\Trade\\\\Wyckoff\\\\CAN\\\\universe.csv'\n",
    "can_list = pd.read_csv(canadian_trade_list)\n",
    "for index in range(0, can_list.Ticker.size):\n",
    "    ticker = can_list.iloc[index].Ticker\n",
    "    save_chart(ticker, driver, date_str, can_root_folder)"
   ]
  },
  {
   "cell_type": "code",
   "execution_count": 9,
   "metadata": {
    "collapsed": true
   },
   "outputs": [],
   "source": [
    "us_trade_list = 'C:\\\\Trade\\\\Wyckoff\\\\USA\\\\universe.csv'\n",
    "usa_list = pd.read_csv(us_trade_list)\n",
    "for index in range(0, usa_list.Ticker.size):\n",
    "    ticker = usa_list.iloc[index].Ticker\n",
    "    save_chart(ticker, driver, date_str, usa_root_folder)"
   ]
  },
  {
   "cell_type": "code",
   "execution_count": 10,
   "metadata": {
    "collapsed": true
   },
   "outputs": [],
   "source": [
    "date_str = '20161007'\n",
    "can_root_folder = 'C:\\\\Trade\\\\Wyckoff\\\\CAN'\n",
    "usa_root_folder = 'C:\\\\Trade\\\\Wyckoff\\\\USA'\n",
    "canadian_trade_list = 'C:\\\\Trade\\\\Wyckoff\\\\CAN\\\\universe.csv'\n",
    "can_list = pd.read_csv(canadian_trade_list)\n",
    "for index in range(0, can_list.Ticker.size):\n",
    "    ticker = can_list.iloc[index].Ticker\n",
    "    save_chart(ticker, driver, date_str, can_root_folder)\n",
    "us_trade_list = 'C:\\\\Trade\\\\Wyckoff\\\\USA\\\\universe.csv'\n",
    "usa_list = pd.read_csv(us_trade_list)\n",
    "for index in range(0, usa_list.Ticker.size):\n",
    "    ticker = usa_list.iloc[index].Ticker\n",
    "    save_chart(ticker, driver, date_str, usa_root_folder)"
   ]
  },
  {
   "cell_type": "code",
   "execution_count": 11,
   "metadata": {
    "collapsed": true
   },
   "outputs": [],
   "source": [
    "date_str = '20160930'\n",
    "can_root_folder = 'C:\\\\Trade\\\\Wyckoff\\\\CAN'\n",
    "usa_root_folder = 'C:\\\\Trade\\\\Wyckoff\\\\USA'\n",
    "canadian_trade_list = 'C:\\\\Trade\\\\Wyckoff\\\\CAN\\\\universe.csv'\n",
    "can_list = pd.read_csv(canadian_trade_list)\n",
    "for index in range(0, can_list.Ticker.size):\n",
    "    ticker = can_list.iloc[index].Ticker\n",
    "    save_chart(ticker, driver, date_str, can_root_folder)\n",
    "us_trade_list = 'C:\\\\Trade\\\\Wyckoff\\\\USA\\\\universe.csv'\n",
    "usa_list = pd.read_csv(us_trade_list)\n",
    "for index in range(0, usa_list.Ticker.size):\n",
    "    ticker = usa_list.iloc[index].Ticker\n",
    "    save_chart(ticker, driver, date_str, usa_root_folder)\n",
    "    "
   ]
  },
  {
   "cell_type": "code",
   "execution_count": 12,
   "metadata": {
    "collapsed": true
   },
   "outputs": [],
   "source": [
    "date_str = '20161028'\n",
    "can_root_folder = 'C:\\\\Trade\\\\Wyckoff\\\\CAN'\n",
    "usa_root_folder = 'C:\\\\Trade\\\\Wyckoff\\\\USA'\n",
    "canadian_trade_list = 'C:\\\\Trade\\\\Wyckoff\\\\CAN\\\\universe.csv'\n",
    "can_list = pd.read_csv(canadian_trade_list)\n",
    "for index in range(0, can_list.Ticker.size):\n",
    "    ticker = can_list.iloc[index].Ticker\n",
    "    save_chart(ticker, driver, date_str, can_root_folder)\n",
    "us_trade_list = 'C:\\\\Trade\\\\Wyckoff\\\\USA\\\\universe.csv'\n",
    "usa_list = pd.read_csv(us_trade_list)\n",
    "for index in range(0, usa_list.Ticker.size):\n",
    "    ticker = usa_list.iloc[index].Ticker\n",
    "    save_chart(ticker, driver, date_str, usa_root_folder)"
   ]
  },
  {
   "cell_type": "code",
   "execution_count": 13,
   "metadata": {
    "collapsed": false
   },
   "outputs": [],
   "source": [
    "driver.close()"
   ]
  },
  {
   "cell_type": "code",
   "execution_count": null,
   "metadata": {
    "collapsed": true
   },
   "outputs": [],
   "source": []
  }
 ],
 "metadata": {
  "anaconda-cloud": {},
  "kernelspec": {
   "display_name": "Python [conda env:py27]",
   "language": "python",
   "name": "conda-env-py27-py"
  },
  "language_info": {
   "codemirror_mode": {
    "name": "ipython",
    "version": 2
   },
   "file_extension": ".py",
   "mimetype": "text/x-python",
   "name": "python",
   "nbconvert_exporter": "python",
   "pygments_lexer": "ipython2",
   "version": "2.7.12"
  }
 },
 "nbformat": 4,
 "nbformat_minor": 0
}
