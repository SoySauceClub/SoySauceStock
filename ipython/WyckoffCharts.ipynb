{
 "cells": [
  {
   "cell_type": "code",
   "execution_count": 1,
   "metadata": {
    "collapsed": true
   },
   "outputs": [],
   "source": [
    "import json\n",
    "import os\n",
    "import pandas as pd\n",
    "\n",
    "from selenium import webdriver\n",
    "from selenium.webdriver.support.ui import Select\n",
    "from selenium.webdriver.common.keys import Keys"
   ]
  },
  {
   "cell_type": "code",
   "execution_count": 2,
   "metadata": {
    "collapsed": false
   },
   "outputs": [],
   "source": [
    "def save_chart(ticker, driver, date_str, dest):\n",
    "    save_file_name = os.path.join(dest, str.format('{0}_{1}.png', ticker.replace('/','-'), date_str))\n",
    "    driver.find_element_by_id('navsearchtext').send_keys(Keys.CONTROL + 'a' + Keys.NULL, ticker)\n",
    "    driver.find_element_by_id('navsearchbutton').click()\n",
    "    driver.get_screenshot_as_file(save_file_name)\n"
   ]
  },
  {
   "cell_type": "code",
   "execution_count": 3,
   "metadata": {
    "collapsed": false
   },
   "outputs": [],
   "source": [
    "driver = webdriver.Firefox()\n",
    "driver.implicitly_wait(10) # seconds\n",
    "driver.get(\"http://stockcharts.com\")\n",
    "account_json = 'C:\\\\Tools\\\\stockchart.json'\n",
    "with open(account_json) as data_file:    \n",
    "    account_info = json.load(data_file)\n",
    "driver.find_element_by_link_text('Login').click()\n",
    "driver.find_element_by_id('form_UserID').send_keys(account_info['user_name'])\n",
    "driver.find_element_by_name('form_UserPassword').send_keys(account_info['password'])\n",
    "driver.find_element_by_class_name('login-panel-button').submit()"
   ]
  },
  {
   "cell_type": "code",
   "execution_count": 4,
   "metadata": {
    "collapsed": true
   },
   "outputs": [],
   "source": [
    "date_str = '20160930'\n",
    "can_root_folder = 'C:\\\\Trade\\\\Wyckoff\\\\CAN'\n",
    "usa_root_folder = 'C:\\\\Trade\\\\Wyckoff\\\\USA'"
   ]
  },
  {
   "cell_type": "code",
   "execution_count": 5,
   "metadata": {
    "collapsed": false
   },
   "outputs": [],
   "source": [
    "canadian_trade_list = 'C:\\\\Trade\\\\Wyckoff\\\\CAN\\\\universe.csv'\n",
    "can_list = pd.read_csv(canadian_trade_list)\n",
    "for index in range(0, can_list.Ticker.size):\n",
    "    ticker = can_list.iloc[index].Ticker\n",
    "    save_chart(ticker, driver, date_str, can_root_folder)"
   ]
  },
  {
   "cell_type": "code",
   "execution_count": 6,
   "metadata": {
    "collapsed": false
   },
   "outputs": [],
   "source": [
    "us_trade_list = 'C:\\\\Trade\\\\Wyckoff\\\\USA\\\\universe.csv'\n",
    "usa_list = pd.read_csv(us_trade_list)\n",
    "for index in range(0, usa_list.Ticker.size):\n",
    "    ticker = usa_list.iloc[index].Ticker\n",
    "    save_chart(ticker, driver, date_str, usa_root_folder)"
   ]
  },
  {
   "cell_type": "code",
   "execution_count": 7,
   "metadata": {
    "collapsed": false
   },
   "outputs": [],
   "source": [
    "driver.close()"
   ]
  },
  {
   "cell_type": "code",
   "execution_count": null,
   "metadata": {
    "collapsed": true
   },
   "outputs": [],
   "source": []
  }
 ],
 "metadata": {
  "kernelspec": {
   "display_name": "Python 2",
   "language": "python",
   "name": "python2"
  },
  "language_info": {
   "codemirror_mode": {
    "name": "ipython",
    "version": 2
   },
   "file_extension": ".py",
   "mimetype": "text/x-python",
   "name": "python",
   "nbconvert_exporter": "python",
   "pygments_lexer": "ipython2",
   "version": "2.7.11"
  }
 },
 "nbformat": 4,
 "nbformat_minor": 0
}
