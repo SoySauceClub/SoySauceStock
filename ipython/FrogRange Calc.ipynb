{
 "cells": [
  {
   "cell_type": "code",
   "execution_count": 3,
   "metadata": {
    "collapsed": true
   },
   "outputs": [],
   "source": [
    "import pandas as pd\n",
    "import pandas_datareader.data as web"
   ]
  },
  {
   "cell_type": "code",
   "execution_count": 4,
   "metadata": {
    "collapsed": false
   },
   "outputs": [],
   "source": [
    "price_df = web.get_data_yahoo('EWZ', '10/28/2015', '11/01/2016')"
   ]
  },
  {
   "cell_type": "code",
   "execution_count": 5,
   "metadata": {
    "collapsed": false
   },
   "outputs": [],
   "source": [
    "price_df['Range'] = price_df['High'] - price_df['Low']"
   ]
  },
  {
   "cell_type": "code",
   "execution_count": 6,
   "metadata": {
    "collapsed": false
   },
   "outputs": [],
   "source": [
    "price_df['Frogbox'] = price_df['Range'].rolling(window=30).std()"
   ]
  },
  {
   "cell_type": "code",
   "execution_count": 7,
   "metadata": {
    "collapsed": false
   },
   "outputs": [],
   "source": [
    "price_df['AvgStat'] = price_df['Range'].rolling(window=30).mean()"
   ]
  },
  {
   "cell_type": "code",
   "execution_count": 8,
   "metadata": {
    "collapsed": false
   },
   "outputs": [],
   "source": [
    "price_df['RangeStat'] = price_df['AvgStat'] + price_df['Frogbox']"
   ]
  },
  {
   "cell_type": "code",
   "execution_count": 9,
   "metadata": {
    "collapsed": false
   },
   "outputs": [],
   "source": [
    "price_df['HybridFrog'] = price_df['Frogbox'] * 0.7"
   ]
  },
  {
   "cell_type": "code",
   "execution_count": 10,
   "metadata": {
    "collapsed": false
   },
   "outputs": [
    {
     "data": {
      "text/html": [
       "<div>\n",
       "<table border=\"1\" class=\"dataframe\">\n",
       "  <thead>\n",
       "    <tr style=\"text-align: right;\">\n",
       "      <th></th>\n",
       "      <th>Open</th>\n",
       "      <th>High</th>\n",
       "      <th>Low</th>\n",
       "      <th>Close</th>\n",
       "      <th>Volume</th>\n",
       "      <th>Adj Close</th>\n",
       "      <th>Range</th>\n",
       "      <th>Frogbox</th>\n",
       "      <th>AvgStat</th>\n",
       "      <th>RangeStat</th>\n",
       "      <th>HybridFrog</th>\n",
       "    </tr>\n",
       "    <tr>\n",
       "      <th>Date</th>\n",
       "      <th></th>\n",
       "      <th></th>\n",
       "      <th></th>\n",
       "      <th></th>\n",
       "      <th></th>\n",
       "      <th></th>\n",
       "      <th></th>\n",
       "      <th></th>\n",
       "      <th></th>\n",
       "      <th></th>\n",
       "      <th></th>\n",
       "    </tr>\n",
       "  </thead>\n",
       "  <tbody>\n",
       "    <tr>\n",
       "      <th>2016-10-26</th>\n",
       "      <td>38.189999</td>\n",
       "      <td>38.189999</td>\n",
       "      <td>37.459999</td>\n",
       "      <td>37.840000</td>\n",
       "      <td>20424600</td>\n",
       "      <td>37.840000</td>\n",
       "      <td>0.730000</td>\n",
       "      <td>0.248675</td>\n",
       "      <td>0.721333</td>\n",
       "      <td>0.970008</td>\n",
       "      <td>0.174073</td>\n",
       "    </tr>\n",
       "    <tr>\n",
       "      <th>2016-10-27</th>\n",
       "      <td>38.220001</td>\n",
       "      <td>38.330002</td>\n",
       "      <td>37.750000</td>\n",
       "      <td>37.770000</td>\n",
       "      <td>19417700</td>\n",
       "      <td>37.770000</td>\n",
       "      <td>0.580002</td>\n",
       "      <td>0.235597</td>\n",
       "      <td>0.702000</td>\n",
       "      <td>0.937597</td>\n",
       "      <td>0.164918</td>\n",
       "    </tr>\n",
       "    <tr>\n",
       "      <th>2016-10-28</th>\n",
       "      <td>37.619999</td>\n",
       "      <td>37.900002</td>\n",
       "      <td>37.040001</td>\n",
       "      <td>37.389999</td>\n",
       "      <td>22784600</td>\n",
       "      <td>37.389999</td>\n",
       "      <td>0.860001</td>\n",
       "      <td>0.237192</td>\n",
       "      <td>0.708666</td>\n",
       "      <td>0.945858</td>\n",
       "      <td>0.166034</td>\n",
       "    </tr>\n",
       "    <tr>\n",
       "      <th>2016-10-31</th>\n",
       "      <td>37.919998</td>\n",
       "      <td>38.080002</td>\n",
       "      <td>37.630001</td>\n",
       "      <td>37.759998</td>\n",
       "      <td>16549000</td>\n",
       "      <td>37.759998</td>\n",
       "      <td>0.450001</td>\n",
       "      <td>0.241385</td>\n",
       "      <td>0.697666</td>\n",
       "      <td>0.939051</td>\n",
       "      <td>0.168969</td>\n",
       "    </tr>\n",
       "    <tr>\n",
       "      <th>2016-11-01</th>\n",
       "      <td>37.630001</td>\n",
       "      <td>37.700001</td>\n",
       "      <td>36.029999</td>\n",
       "      <td>36.470001</td>\n",
       "      <td>31992100</td>\n",
       "      <td>36.470001</td>\n",
       "      <td>1.670002</td>\n",
       "      <td>0.289577</td>\n",
       "      <td>0.742666</td>\n",
       "      <td>1.032243</td>\n",
       "      <td>0.202704</td>\n",
       "    </tr>\n",
       "  </tbody>\n",
       "</table>\n",
       "</div>"
      ],
      "text/plain": [
       "                 Open       High        Low      Close    Volume  Adj Close  \\\n",
       "Date                                                                          \n",
       "2016-10-26  38.189999  38.189999  37.459999  37.840000  20424600  37.840000   \n",
       "2016-10-27  38.220001  38.330002  37.750000  37.770000  19417700  37.770000   \n",
       "2016-10-28  37.619999  37.900002  37.040001  37.389999  22784600  37.389999   \n",
       "2016-10-31  37.919998  38.080002  37.630001  37.759998  16549000  37.759998   \n",
       "2016-11-01  37.630001  37.700001  36.029999  36.470001  31992100  36.470001   \n",
       "\n",
       "               Range   Frogbox   AvgStat  RangeStat  HybridFrog  \n",
       "Date                                                             \n",
       "2016-10-26  0.730000  0.248675  0.721333   0.970008    0.174073  \n",
       "2016-10-27  0.580002  0.235597  0.702000   0.937597    0.164918  \n",
       "2016-10-28  0.860001  0.237192  0.708666   0.945858    0.166034  \n",
       "2016-10-31  0.450001  0.241385  0.697666   0.939051    0.168969  \n",
       "2016-11-01  1.670002  0.289577  0.742666   1.032243    0.202704  "
      ]
     },
     "execution_count": 10,
     "metadata": {},
     "output_type": "execute_result"
    }
   ],
   "source": [
    "price_df.tail()"
   ]
  },
  {
   "cell_type": "code",
   "execution_count": null,
   "metadata": {
    "collapsed": true
   },
   "outputs": [],
   "source": []
  },
  {
   "cell_type": "code",
   "execution_count": null,
   "metadata": {
    "collapsed": true
   },
   "outputs": [],
   "source": [
    "0.7"
   ]
  }
 ],
 "metadata": {
  "kernelspec": {
   "display_name": "Python [Root]",
   "language": "python",
   "name": "Python [Root]"
  },
  "language_info": {
   "codemirror_mode": {
    "name": "ipython",
    "version": 3
   },
   "file_extension": ".py",
   "mimetype": "text/x-python",
   "name": "python",
   "nbconvert_exporter": "python",
   "pygments_lexer": "ipython3",
   "version": "3.5.2"
  }
 },
 "nbformat": 4,
 "nbformat_minor": 0
}
