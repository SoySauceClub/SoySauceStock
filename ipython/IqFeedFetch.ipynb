{
 "cells": [
  {
   "cell_type": "code",
   "execution_count": 1,
   "metadata": {
    "collapsed": true
   },
   "outputs": [],
   "source": [
    "import pandas as pd\n",
    "import sys\n",
    "import socket"
   ]
  },
  {
   "cell_type": "code",
   "execution_count": 2,
   "metadata": {
    "collapsed": true
   },
   "outputs": [],
   "source": [
    "def read_historical_data_socket(sock, recv_buffer=4096):\n",
    "    \"\"\"\n",
    "    Read the information from the socket, in a buffered\n",
    "    fashion, receiving only 4096 bytes at a time.\n",
    "\n",
    "    Parameters:\n",
    "    sock - The socket object\n",
    "    recv_buffer - Amount in bytes to receive per read\n",
    "    \"\"\"\n",
    "    buffer = \"\"\n",
    "    data = \"\"\n",
    "    while True:\n",
    "        data = sock.recv(recv_buffer)\n",
    "        buffer += data\n",
    "\n",
    "        # Check if the end message string arrives\n",
    "        if \"!ENDMSG!\" in buffer:\n",
    "            break\n",
    "   \n",
    "    # Remove the end message string\n",
    "    buffer = buffer[:-12]\n",
    "    return buffer"
   ]
  },
  {
   "cell_type": "code",
   "execution_count": 3,
   "metadata": {
    "collapsed": true
   },
   "outputs": [],
   "source": [
    "start_date = '20161110'\n",
    "end_date = '20161114'"
   ]
  },
  {
   "cell_type": "code",
   "execution_count": 16,
   "metadata": {
    "collapsed": false
   },
   "outputs": [
    {
     "name": "stdout",
     "output_type": "stream",
     "text": [
      "Downloading symbol: SPY...\n",
      "2016-11-14 00:32:51,217.2700,215.7200,217.0300,216.5900,94579982,0,\r\n",
      "2016-11-11 00:32:51,216.7000,215.3200,216.0800,216.4200,100552732,0,\r\n",
      "2016-11-10 00:32:51,218.3100,215.2200,217.3000,216.9200,172113313,0,\r\n"
     ]
    }
   ],
   "source": [
    "\n",
    "if __name__ == \"__main__\":\n",
    "    # Define server host, port and symbols to download\n",
    "    host = \"127.0.0.1\"  # Localhost\n",
    "    port = 9100  # Historical data socket port\n",
    "    syms = ['SPY']\n",
    "\n",
    "    # Download each symbol to disk\n",
    "    for sym in syms:\n",
    "        print \"Downloading symbol: %s...\" % sym\n",
    "\n",
    "        # Construct the message needed by IQFeed to retrieve data\n",
    "        message = \"HDT,{0},{1},{2},,,,1\\n\".format(sym, start_date, end_date)\n",
    "\n",
    "        # Open a streaming socket to the IQFeed server locally\n",
    "        sock = socket.socket(socket.AF_INET, socket.SOCK_STREAM)\n",
    "        sock.connect((host, port))\n",
    "\n",
    "        # Send the historical data request\n",
    "        # message and buffer the data\n",
    "        sock.sendall(message)\n",
    "        data = read_historical_data_socket(sock)\n",
    "        sock.close()\n",
    "\n",
    "        # Remove all the endlines and line-ending\n",
    "        # comma delimiter from each record\n",
    "        #data = \"\".join(data.split(\"\\r\"))\n",
    "        #data = data.replace(\",\\n\",\"\\n\")[:-1]\n",
    "        print data\n",
    "        # Write the data stream to disk\n",
    "        # f = open(\"%s.csv\" % sym, \"w\")\n",
    "        # f.write(data)\n",
    "        # f.close()"
   ]
  },
  {
   "cell_type": "code",
   "execution_count": 8,
   "metadata": {
    "collapsed": false
   },
   "outputs": [],
   "source": [
    "        sock.close()"
   ]
  },
  {
   "cell_type": "code",
   "execution_count": null,
   "metadata": {
    "collapsed": true
   },
   "outputs": [],
   "source": []
  }
 ],
 "metadata": {
  "anaconda-cloud": {},
  "kernelspec": {
   "display_name": "Python [conda env:py27]",
   "language": "python",
   "name": "conda-env-py27-py"
  },
  "language_info": {
   "codemirror_mode": {
    "name": "ipython",
    "version": 2
   },
   "file_extension": ".py",
   "mimetype": "text/x-python",
   "name": "python",
   "nbconvert_exporter": "python",
   "pygments_lexer": "ipython2",
   "version": "2.7.12"
  }
 },
 "nbformat": 4,
 "nbformat_minor": 1
}
