{
 "cells": [
  {
   "cell_type": "code",
   "execution_count": 1,
   "metadata": {
    "collapsed": true
   },
   "outputs": [],
   "source": [
    "import json\n",
    "import os\n",
    "import pandas as pd\n",
    "\n",
    "from selenium import webdriver\n",
    "from selenium.webdriver.support.ui import Select\n",
    "from selenium.webdriver.common.keys import Keys"
   ]
  },
  {
   "cell_type": "code",
   "execution_count": 2,
   "metadata": {
    "collapsed": true
   },
   "outputs": [],
   "source": [
    "class ScanResult(object):\n",
    "    def __init__(self, date_str, ticker, close, volume):\n",
    "        self.date_str = date_str\n",
    "        self.ticker = ticker\n",
    "        self.close = close\n",
    "        self.volume = volume\n",
    "    def tostring(self):\n",
    "        return str.format(\"{0},{1}\", self.date_str, self.ticker)"
   ]
  },
  {
   "cell_type": "code",
   "execution_count": 3,
   "metadata": {
    "collapsed": true
   },
   "outputs": [],
   "source": [
    "def get_scan_result(driver, date_pd, date_range):\n",
    "    driver.implicitly_wait(2)\n",
    "    result = []\n",
    "    for date_index in date_range:\n",
    "        driver.find_element_by_id('globalDateOffset').send_keys(Keys.CONTROL + 'a' + Keys.NULL, str(date_index))\n",
    "        parent_handle = driver.window_handles[0]\n",
    "        driver.find_element_by_css_selector('input[value=\"Run Scan\"]').click()\n",
    "        result_handle = driver.window_handles[1]\n",
    "        driver.switch_to_window(result_handle)\n",
    "        trs = driver.find_elements_by_xpath(\"//table[@id='scc-scans-resultstable']/tbody/tr\")\n",
    "        for result_index in range(0, len(trs)):\n",
    "            tr = trs[result_index]\n",
    "            tr_list = tr.text.split(' ')\n",
    "            scan_result = ScanResult(date_str=date_pd[date_index], ticker=tr_list[0], close=tr_list[-2], volume=tr_list[-1])\n",
    "            result.append(scan_result)\n",
    "        driver.switch_to_window(parent_handle)\n",
    "    driver.implicitly_wait(10)\n",
    "    return result"
   ]
  },
  {
   "cell_type": "code",
   "execution_count": 4,
   "metadata": {
    "collapsed": false
   },
   "outputs": [],
   "source": [
    "driver = webdriver.Firefox()\n",
    "driver.implicitly_wait(10) # seconds\n",
    "driver.get(\"http://stockcharts.com\")"
   ]
  },
  {
   "cell_type": "code",
   "execution_count": 5,
   "metadata": {
    "collapsed": false
   },
   "outputs": [],
   "source": [
    "account_json = 'C:\\\\Tools\\\\stockchart.json'\n",
    "with open(account_json) as data_file:    \n",
    "    account_info = json.load(data_file)\n",
    "driver.find_element_by_link_text('Login').click()\n",
    "driver.find_element_by_id('form_UserID').send_keys(account_info['user_name'])\n",
    "driver.find_element_by_name('form_UserPassword').send_keys(account_info['password'])\n",
    "driver.find_element_by_id('loginbutton').submit()"
   ]
  },
  {
   "cell_type": "code",
   "execution_count": 6,
   "metadata": {
    "collapsed": false
   },
   "outputs": [],
   "source": [
    "driver.find_element_by_name('button_GoScanDef').click()\n",
    "select = Select(driver.find_element_by_id('favScans'))\n",
    "select.select_by_visible_text('Daily Triple Screen Bearish')\n"
   ]
  },
  {
   "cell_type": "code",
   "execution_count": 7,
   "metadata": {
    "collapsed": false
   },
   "outputs": [],
   "source": [
    "date_mapping = 'C:\\\\temp\\\\dataFromMemory.csv'\n",
    "date_pd = pd.read_csv(date_mapping, parse_dates=True)\n",
    "date_pd = date_pd.Date"
   ]
  },
  {
   "cell_type": "code",
   "execution_count": 8,
   "metadata": {
    "collapsed": false
   },
   "outputs": [],
   "source": [
    "result = get_scan_result(driver, date_pd, range(0, 600))"
   ]
  },
  {
   "cell_type": "code",
   "execution_count": 9,
   "metadata": {
    "collapsed": false
   },
   "outputs": [],
   "source": [
    "target_path = 'C:\\\\temp\\\\TripleScreenBear.csv'\n",
    "\n",
    "with open(target_path, 'w') as f:\n",
    "    f.write('Date,Ticker\\n')\n",
    "    for item in result:\n",
    "        f.write(item.tostring() +'\\n')"
   ]
  },
  {
   "cell_type": "code",
   "execution_count": 10,
   "metadata": {
    "collapsed": true
   },
   "outputs": [],
   "source": [
    "select = Select(driver.find_element_by_id('favScans'))\n",
    "select.select_by_visible_text('Daily Triple Screen Bullish')"
   ]
  },
  {
   "cell_type": "code",
   "execution_count": 11,
   "metadata": {
    "collapsed": true
   },
   "outputs": [],
   "source": [
    "result = get_scan_result(driver, date_pd, range(0, 600))"
   ]
  },
  {
   "cell_type": "code",
   "execution_count": 13,
   "metadata": {
    "collapsed": false
   },
   "outputs": [],
   "source": [
    "target_path = 'C:\\\\temp\\\\TripleScreenBull.csv'\n",
    "with open(target_path, 'w') as f:\n",
    "    f.write('Date,Ticker\\n')\n",
    "    for item in result:\n",
    "        f.write(item.tostring() +'\\n')"
   ]
  }
 ],
 "metadata": {
  "kernelspec": {
   "display_name": "Python 3",
   "language": "python",
   "name": "python3"
  },
  "language_info": {
   "codemirror_mode": {
    "name": "ipython",
    "version": 3
   },
   "file_extension": ".py",
   "mimetype": "text/x-python",
   "name": "python",
   "nbconvert_exporter": "python",
   "pygments_lexer": "ipython3",
   "version": "3.5.1"
  }
 },
 "nbformat": 4,
 "nbformat_minor": 0
}
